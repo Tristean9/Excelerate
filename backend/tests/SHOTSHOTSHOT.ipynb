{
 "cells": [
  {
   "cell_type": "markdown",
   "metadata": {},
   "source": [
    "# 本文件供syz测试代码用，项目架构与本文件关系不大"
   ]
  },
  {
   "cell_type": "code",
   "execution_count": 2,
   "metadata": {},
   "outputs": [
    {
     "data": {
      "text/plain": [
       "'D:\\\\SYZ_folder\\\\Challenge Cup-Excelerate\\\\second_shot\\\\backend\\\\tests\\\\for_xls2xlsx\\\\test2_dropdown.xlsx'"
      ]
     },
     "execution_count": 2,
     "metadata": {},
     "output_type": "execute_result"
    }
   ],
   "source": [
    "from xls2xlsx import XLS2XLSX\n",
    "\n",
    "filename = r\"D:\\SYZ_folder\\Challenge Cup-Excelerate\\second_shot\\backend\\tests\\for_xls2xlsx\\test2_dropdown.xls\"\n",
    "outfile = r\"D:\\SYZ_folder\\Challenge Cup-Excelerate\\second_shot\\backend\\tests\\for_xls2xlsx\\test2_dropdown.xlsx\"\n",
    "# Read xls file\n",
    "x2x = XLS2XLSX(filename)\n",
    "# Write to xlsx file\n",
    "x2x.to_xlsx(outfile)"
   ]
  },
  {
   "cell_type": "code",
   "execution_count": 11,
   "metadata": {},
   "outputs": [
    {
     "data": {
      "text/plain": [
       "{'性别': ['男', '女'], '学生类别': ['本科生', '硕士研究生', '博士研究生'], '': ''}"
      ]
     },
     "execution_count": 11,
     "metadata": {},
     "output_type": "execute_result"
    }
   ],
   "source": [
    "dict_=dict(zip(\"性别 学生类别\".split()+[\"\"],[\"男 女\".split(),\"本科生 硕士研究生 博士研究生\".split()]+[\"\"]))\n",
    "path=r\"D:\\SYZ_folder\\Challenge Cup-Excelerate\\second_shot\\backend\\rules\\predefined_rules.json\"\n",
    "import json\n",
    "def convert_to_json_file(data, file_path):\n",
    "    # 将python对象转换成json字符串并保存到文件\n",
    "    with open(file_path, 'w',encoding=\"utf-8\") as json_file:\n",
    "        json.dump(data, json_file, indent=4)\n",
    "convert_to_json_file(dict_,path)\n",
    "def read_from_json_file(file_path):\n",
    "    # 从文件读取json数据转换成python对象\n",
    "    with open(file_path, 'r',encoding=\"utf-8\") as json_file:\n",
    "        data = json.load(json_file)\n",
    "    return data\n",
    "read_from_json_file(path)"
   ]
  },
  {
   "cell_type": "markdown",
   "metadata": {},
   "source": [
    "# 使用pywin32 实现格式互换"
   ]
  },
  {
   "cell_type": "code",
   "execution_count": 6,
   "metadata": {},
   "outputs": [],
   "source": [
    "import io,os,sys\n",
    "import win32com.client as win32\n",
    "import openpyxl as px\n",
    "sys.path.append(r\"D:\\SYZ_folder\\Challenge Cup-Excelerate\\second_shot\\backend\")\n",
    "from services.file_rule_maker  import *\n",
    "from utils.excel_processor import  *"
   ]
  },
  {
   "cell_type": "code",
   "execution_count": null,
   "metadata": {},
   "outputs": [],
   "source": []
  },
  {
   "cell_type": "code",
   "execution_count": 7,
   "metadata": {},
   "outputs": [],
   "source": [
    "# Excel格式映射\n",
    "FORMATS = {\n",
    "    'xls': 56,\n",
    "    'xlsx': 51\n",
    "}\n",
    "file_path_=r\"D:\\SYZ_folder\\Challenge Cup-Excelerate\\second_shot\\backend\\tests\\for_xls2xlsx\"\n",
    "def convert_excel_format(input_bytes, src_format, dst_format):\n",
    "    # 确保源格式和目标格式是受支持的\n",
    "    if src_format not in FORMATS or dst_format not in FORMATS:\n",
    "        raise ValueError('Unsupported format specified.')\n",
    "\n",
    "    # 创建 Excel 对象\n",
    "    excel = win32.gencache.EnsureDispatch('Excel.Application')\n",
    "    excel.Visible = False  # 不显示Excel界面\n",
    "    \n",
    "    # 创建输入输出流\n",
    "    output_io = io.BytesIO()\n",
    "\n",
    "    # 将输入BytesIO对象中的内容写入临时源文件\n",
    "    with open(os.path.join(file_path_,f\"temp.{src_format}\"), \"wb\") as temp_file:\n",
    "        temp_file.write(input_bytes.getvalue())\n",
    "\n",
    "    # 打开源文件#os.path.abspath\n",
    "    workbook = excel.Workbooks.Open(os.path.join(file_path_,f\"temp.{src_format}\"))\n",
    "\n",
    "    # 另存为目标格式的文件#os.path.abspath\n",
    "    workbook.SaveAs(os.path.join(file_path_,f\"temp.{dst_format}\"), FileFormat=FORMATS[dst_format])\n",
    "    workbook.Close(False)\n",
    "\n",
    "    # 读取目标文件到BytesIO对象\n",
    "    with open(os.path.join(file_path_,f\"temp.{dst_format}\"), \"rb\") as temp_file:\n",
    "        output_io.write(temp_file.read())\n",
    "\n",
    "    # 清理临时文件\n",
    "    os.remove(os.path.join(file_path_,f\"temp.{src_format}\"))\n",
    "    #os.remove(f\"temp.{dst_format}\")\n",
    "\n",
    "    # 关闭 Excel 进程\n",
    "    excel.Application.Quit()\n",
    "\n",
    "    # 设置输出流的指针回到起始位置，以便于读取\n",
    "    output_io.seek(0)\n",
    "    return output_io\n",
    "\n",
    "# 使用示例\n",
    "# 将input_xls_bytes从xls转换为xlsx格式\n",
    "# converted_xlsx = convert_excel_format(input_xls_bytes, 'xls', 'xlsx')\n",
    "\n",
    "# 将input_xlsx_bytes从xlsx转换为xls格式\n",
    "# converted_xls = convert_excel_format(input_xlsx_bytes, 'xlsx', 'xls')\n"
   ]
  },
  {
   "cell_type": "code",
   "execution_count": 8,
   "metadata": {},
   "outputs": [
    {
     "ename": "AttributeError",
     "evalue": "'NoneType' object has no attribute 'SaveAs'",
     "output_type": "error",
     "traceback": [
      "\u001b[1;31m---------------------------------------------------------------------------\u001b[0m",
      "\u001b[1;31mAttributeError\u001b[0m                            Traceback (most recent call last)",
      "\u001b[1;32md:\\SYZ_folder\\Challenge Cup-Excelerate\\second_shot\\backend\\tests\\SHOTSHOTSHOT.ipynb 单元格 8\u001b[0m line \u001b[0;36m4\n\u001b[0;32m      <a href='vscode-notebook-cell:/d%3A/SYZ_folder/Challenge%20Cup-Excelerate/second_shot/backend/tests/SHOTSHOTSHOT.ipynb#X10sZmlsZQ%3D%3D?line=1'>2</a>\u001b[0m Xwb\u001b[39m=\u001b[39mpx\u001b[39m.\u001b[39mload_workbook(\u001b[39mr\u001b[39m\u001b[39m\"\u001b[39m\u001b[39mD:\u001b[39m\u001b[39m\\\u001b[39m\u001b[39mSYZ_folder\u001b[39m\u001b[39m\\\u001b[39m\u001b[39mChallenge Cup-Excelerate\u001b[39m\u001b[39m\\\u001b[39m\u001b[39msecond_shot\u001b[39m\u001b[39m\\\u001b[39m\u001b[39mbackend\u001b[39m\u001b[39m\\\u001b[39m\u001b[39mtests\u001b[39m\u001b[39m\\\u001b[39m\u001b[39mfor_xls2xlsx\u001b[39m\u001b[39m\\\u001b[39m\u001b[39mxlsx_file.xlsx\u001b[39m\u001b[39m\"\u001b[39m)\n\u001b[0;32m      <a href='vscode-notebook-cell:/d%3A/SYZ_folder/Challenge%20Cup-Excelerate/second_shot/backend/tests/SHOTSHOTSHOT.ipynb#X10sZmlsZQ%3D%3D?line=2'>3</a>\u001b[0m xlsx\u001b[39m=\u001b[39mXio\u001b[39m.\u001b[39mstream_excel_to_frontend(Xwb)\n\u001b[1;32m----> <a href='vscode-notebook-cell:/d%3A/SYZ_folder/Challenge%20Cup-Excelerate/second_shot/backend/tests/SHOTSHOTSHOT.ipynb#X10sZmlsZQ%3D%3D?line=3'>4</a>\u001b[0m convert_excel_format(xlsx,\u001b[39m\"\u001b[39;49m\u001b[39mxlsx\u001b[39;49m\u001b[39m\"\u001b[39;49m,\u001b[39m\"\u001b[39;49m\u001b[39mxls\u001b[39;49m\u001b[39m\"\u001b[39;49m)\n",
      "\u001b[1;32md:\\SYZ_folder\\Challenge Cup-Excelerate\\second_shot\\backend\\tests\\SHOTSHOTSHOT.ipynb 单元格 8\u001b[0m line \u001b[0;36m2\n\u001b[0;32m     <a href='vscode-notebook-cell:/d%3A/SYZ_folder/Challenge%20Cup-Excelerate/second_shot/backend/tests/SHOTSHOTSHOT.ipynb#X10sZmlsZQ%3D%3D?line=23'>24</a>\u001b[0m workbook \u001b[39m=\u001b[39m excel\u001b[39m.\u001b[39mWorkbooks\u001b[39m.\u001b[39mOpen(os\u001b[39m.\u001b[39mpath\u001b[39m.\u001b[39mjoin(file_path_,\u001b[39mf\u001b[39m\u001b[39m\"\u001b[39m\u001b[39mtemp.\u001b[39m\u001b[39m{\u001b[39;00msrc_format\u001b[39m}\u001b[39;00m\u001b[39m\"\u001b[39m))\n\u001b[0;32m     <a href='vscode-notebook-cell:/d%3A/SYZ_folder/Challenge%20Cup-Excelerate/second_shot/backend/tests/SHOTSHOTSHOT.ipynb#X10sZmlsZQ%3D%3D?line=25'>26</a>\u001b[0m \u001b[39m# 另存为目标格式的文件#os.path.abspath\u001b[39;00m\n\u001b[1;32m---> <a href='vscode-notebook-cell:/d%3A/SYZ_folder/Challenge%20Cup-Excelerate/second_shot/backend/tests/SHOTSHOTSHOT.ipynb#X10sZmlsZQ%3D%3D?line=26'>27</a>\u001b[0m workbook\u001b[39m.\u001b[39;49mSaveAs(os\u001b[39m.\u001b[39mpath\u001b[39m.\u001b[39mjoin(file_path_,\u001b[39mf\u001b[39m\u001b[39m\"\u001b[39m\u001b[39mtemp.\u001b[39m\u001b[39m{\u001b[39;00mdst_format\u001b[39m}\u001b[39;00m\u001b[39m\"\u001b[39m), FileFormat\u001b[39m=\u001b[39mFORMATS[dst_format])\n\u001b[0;32m     <a href='vscode-notebook-cell:/d%3A/SYZ_folder/Challenge%20Cup-Excelerate/second_shot/backend/tests/SHOTSHOTSHOT.ipynb#X10sZmlsZQ%3D%3D?line=27'>28</a>\u001b[0m workbook\u001b[39m.\u001b[39mClose(\u001b[39mFalse\u001b[39;00m)\n\u001b[0;32m     <a href='vscode-notebook-cell:/d%3A/SYZ_folder/Challenge%20Cup-Excelerate/second_shot/backend/tests/SHOTSHOTSHOT.ipynb#X10sZmlsZQ%3D%3D?line=29'>30</a>\u001b[0m \u001b[39m# 读取目标文件到BytesIO对象\u001b[39;00m\n",
      "\u001b[1;31mAttributeError\u001b[0m: 'NoneType' object has no attribute 'SaveAs'"
     ]
    }
   ],
   "source": [
    "Xio=Excel_IO()\n",
    "Xwb=px.load_workbook(r\"D:\\SYZ_folder\\Challenge Cup-Excelerate\\second_shot\\backend\\tests\\for_xls2xlsx\\xlsx_file.xlsx\")\n",
    "xlsx=Xio.stream_excel_to_frontend(Xwb)\n",
    "convert_excel_format(xlsx,\"xlsx\",\"xls\")"
   ]
  },
  {
   "cell_type": "code",
   "execution_count": 20,
   "metadata": {},
   "outputs": [
    {
     "data": {
      "text/plain": [
       "['.git',\n",
       " '.history',\n",
       " 'models',\n",
       " 'resources',\n",
       " 'rules',\n",
       " 'scripts',\n",
       " 'services',\n",
       " 'tests',\n",
       " 'utils']"
      ]
     },
     "execution_count": 20,
     "metadata": {},
     "output_type": "execute_result"
    }
   ],
   "source": [
    "[i for i in os.listdir(\"../\") if os.path.isdir(\"../\"+i)]"
   ]
  },
  {
   "cell_type": "code",
   "execution_count": null,
   "metadata": {},
   "outputs": [],
   "source": [
    "def execute(filename):\n",
    "    # os.chdir('C:/Github/self/AutoStudentWork/StudentWork-Kit/input')\n",
    "    os.chdir(os.path.abspath(os.path.dirname(__file__)) + '/input')\n",
    "\n",
    "    filename = os.path.abspath(os.path.dirname(__file__)) + '/input/' + filename\n",
    "\n",
    "    excel = win32.gencache.EnsureDispatch('Excel.Application')\n",
    "    wb = excel.Workbooks.Open(filename)\n",
    "\n",
    "    wb.SaveAs(filename + \"x\", FileFormat=51)  # FileFormat = 51 is for .xlsx extension\n",
    "    wb.Close()  # FileFormat = 56 is for .xls extension\n",
    "    excel.Application.Quit()\n",
    "    os.system('del ' + filename)\n"
   ]
  },
  {
   "cell_type": "code",
   "execution_count": null,
   "metadata": {},
   "outputs": [],
   "source": []
  },
  {
   "cell_type": "markdown",
   "metadata": {},
   "source": [
    "# over"
   ]
  },
  {
   "cell_type": "code",
   "execution_count": 4,
   "metadata": {},
   "outputs": [
    {
     "data": {
      "text/plain": [
       "True"
      ]
     },
     "execution_count": 4,
     "metadata": {},
     "output_type": "execute_result"
    }
   ],
   "source": [
    "import json,io\n",
    "def convert_to_json_stream(data):\n",
    "    \"\"\"将Python数据类型转化为JSON格式的字符串\"\"\"\n",
    "    json_string = json.dumps(data)\n",
    "    \n",
    "    # 创建一个StringIO对象，它提供了文件类的接口\n",
    "    json_stream = io.StringIO(json_string)\n",
    "    \n",
    "    # 返回数据流\n",
    "    return json_stream\n",
    "\n",
    "def read_from_json_stream(json_stream):\n",
    "    \"\"\"从JSON数据流中读取数据并转换为Python数据类型\"\"\"\n",
    "    # 重置流的读取位置到起始处\n",
    "    json_stream.seek(0)\n",
    "    \n",
    "    # 从数据流中读取JSON数据并转换为Python数据类型\n",
    "    data = json.load(json_stream)\n",
    "    \n",
    "    # 返回Python数据类型\n",
    "    return data\n",
    "read_from_json_stream(convert_to_json_stream(True))"
   ]
  },
  {
   "cell_type": "markdown",
   "metadata": {},
   "source": [
    "# 复制文件供用"
   ]
  },
  {
   "cell_type": "code",
   "execution_count": 5,
   "metadata": {},
   "outputs": [
    {
     "name": "stderr",
     "output_type": "stream",
     "text": [
      "542it [00:00, 723.62it/s] "
     ]
    },
    {
     "name": "stdout",
     "output_type": "stream",
     "text": [
      "“示范班集体”-成绩(1)(1)(1).xlsx\n",
      "管理办2023-2024学年秋季学期值班表.xlsx\n",
      "巴东恩施菜湖北菜餐厅介绍(2).xlsx\n",
      "2023年北京大学学生到国际组织实习任职统计表.xlsx\n"
     ]
    },
    {
     "name": "stderr",
     "output_type": "stream",
     "text": [
      "735it [00:16, 27.61it/s] "
     ]
    },
    {
     "name": "stdout",
     "output_type": "stream",
     "text": [
      "附件1：报名汇总表.xlsx\n",
      "附件1：院系名额.xlsx\n",
      "附件2：信息管理系“北京大学学生年度人物·2023”报名信息汇总表.xlsx\n",
      "附件2：参会回执.xlsx\n",
      "附件2：寒假期间“博雅校园”研学导览大思政服务岗统计表.xlsx\n",
      "附件：2024年寒假留校全日制学生数据统计表.xlsx\n"
     ]
    },
    {
     "name": "stderr",
     "output_type": "stream",
     "text": [
      "2577it [00:18, 1025.94it/s]"
     ]
    },
    {
     "name": "stdout",
     "output_type": "stream",
     "text": [
      "“示范班集体”-成绩(1)(1)(1).xlsx\n",
      "“示范班集体”-成绩(1)(1).xlsx\n"
     ]
    },
    {
     "name": "stderr",
     "output_type": "stream",
     "text": [
      "4516it [00:26, 263.18it/s] "
     ]
    },
    {
     "name": "stdout",
     "output_type": "stream",
     "text": [
      "2022年度名单-202人.xlsx\n",
      "0-管理办助理额外工作时长统计-姓名xx.xlsx\n",
      "0-管理办助理额外工作时长统计-姓名xx.xlsx\n",
      "西藏行文档（本地初始版.xlsx\n",
      "0-管理办助理额外工作时长统计-姓名xx.xlsx\n",
      "0-管理办助理额外工作时长统计-税远志.xlsx\n",
      "0-管理办助理额外工作时长统计-税远志.xlsx\n",
      "4.30-5.1交易金额汇总.xlsx\n",
      "管理办2022-2023学年春季学期值班表 4.21.xlsx\n",
      "西藏行文档（本地初始版.xlsx\n",
      "附件4：2021-2022学年北京大学示范班集体拟获奖名单.xlsx\n",
      "院系名单.xlsx\n",
      "29人代购车票信息-学工部暑期实践团-6.29最终更新.xlsx\n",
      "西藏行文档（本地初始版(1).xlsx\n",
      "西藏行文档（本地初始版.xlsx\n",
      "47个院系的名单（含医学部）.xlsx\n"
     ]
    },
    {
     "name": "stderr",
     "output_type": "stream",
     "text": [
      "4538it [00:40, 18.45it/s] "
     ]
    },
    {
     "name": "stdout",
     "output_type": "stream",
     "text": [
      "0821已投保名单.xls\n",
      "不随团返程-代预定车票信息-学工部暑期实践团.xlsx\n",
      "安全文明卫生宿舍.xlsx\n",
      "求真43-44班.xlsx\n",
      "管理办2023-2024学年秋季学期值班表(1).xlsx\n",
      "管理办2023-2024学年秋季学期值班表.xlsx\n",
      "返程情况-学工部暑期实践团(1).xlsx\n"
     ]
    },
    {
     "name": "stderr",
     "output_type": "stream",
     "text": [
      "4539it [00:44, 13.12it/s]"
     ]
    },
    {
     "name": "stdout",
     "output_type": "stream",
     "text": [
      "返程情况-学工部暑期实践团-6.22已更新.xlsx\n",
      "院系名单.xlsx\n",
      "安全文明卫生宿舍.xlsx\n",
      "示范学生宿舍名单.xlsx\n",
      "管理办2023-2024学年秋季学期值班表(1).xlsx\n",
      "管理办2023-2024学年秋季学期值班表.xlsx\n",
      "艺术批评导论分组名单.xlsx\n",
      "附件：“新风燕巢”卫生大扫除活动表现突出宿舍推荐表20230421.xlsx\n"
     ]
    },
    {
     "name": "stderr",
     "output_type": "stream",
     "text": [
      "4834it [00:46, 59.45it/s]"
     ]
    },
    {
     "name": "stdout",
     "output_type": "stream",
     "text": [
      "在京巴东相关资源介绍.xlsx\n"
     ]
    },
    {
     "name": "stderr",
     "output_type": "stream",
     "text": [
      "5601it [00:47, 516.37it/s]"
     ]
    },
    {
     "name": "stdout",
     "output_type": "stream",
     "text": [
      "0-管理办助理额外工作时长统计-姓名税远志.xlsx\n"
     ]
    },
    {
     "name": "stderr",
     "output_type": "stream",
     "text": [
      "5884it [00:47, 650.53it/s]"
     ]
    },
    {
     "name": "stdout",
     "output_type": "stream",
     "text": [
      "巴东一中优生信息统计表.xlsx\n"
     ]
    },
    {
     "name": "stderr",
     "output_type": "stream",
     "text": [
      "6312it [00:48, 628.60it/s]"
     ]
    },
    {
     "name": "stdout",
     "output_type": "stream",
     "text": [
      "分数排名.xlsx\n",
      "巴东一中优生信息统计表.xlsx\n"
     ]
    },
    {
     "name": "stderr",
     "output_type": "stream",
     "text": [
      "6554it [00:48, 809.26it/s]"
     ]
    },
    {
     "name": "stdout",
     "output_type": "stream",
     "text": [
      "巴东一中优生信息统计表.xlsx\n",
      "巴东一中优生分数统计表.xlsx\n"
     ]
    },
    {
     "name": "stderr",
     "output_type": "stream",
     "text": [
      "6669it [00:48, 886.97it/s]"
     ]
    },
    {
     "name": "stdout",
     "output_type": "stream",
     "text": [
      "分数排名.xlsx\n"
     ]
    },
    {
     "name": "stderr",
     "output_type": "stream",
     "text": [
      "7617it [00:50, 672.37it/s]"
     ]
    },
    {
     "name": "stdout",
     "output_type": "stream",
     "text": [
      "分数排名.xlsx\n"
     ]
    },
    {
     "name": "stderr",
     "output_type": "stream",
     "text": [
      "7990it [00:51, 646.87it/s]"
     ]
    },
    {
     "name": "stdout",
     "output_type": "stream",
     "text": [
      "值班表-期末更新.xlsx\n"
     ]
    },
    {
     "name": "stderr",
     "output_type": "stream",
     "text": [
      "8537it [00:51, 164.90it/s]"
     ]
    },
    {
     "name": "stdout",
     "output_type": "stream",
     "text": [
      "所有匹配的Excel文件已被复制到目标目录。\n"
     ]
    },
    {
     "name": "stderr",
     "output_type": "stream",
     "text": [
      "\n"
     ]
    }
   ],
   "source": [
    "import shutil\n",
    "import glob\n",
    "import os\n",
    "\n",
    "# 定义一个函数来检查文件是否是我们想要的Excel文件\n",
    "def is_excel_file(filename):\n",
    "    # 将文件名转换为小写以忽略大小写\n",
    "    lower_filename = filename.lower()\n",
    "    return lower_filename.endswith(('.xls', '.xlsx', '.xlsm', '.xlsb', '.xlam', \n",
    "                                    '.xltx', '.xltm', '.xla', '.xlt', '.xlm', '.xlw'))\n",
    "\n",
    "# 定义源目录和目标目录\n",
    "src_directory = r\"D:\\SYZ_folder\\vx存储\"\n",
    "dest_directory = r\"D:\\SYZ_folder\\活动\\学工\\23秋\\A挑战杯-自动化\\second_shot_0225-01-52\\backend\\rules\\xlsx_files\"\n",
    "\n",
    "# 确保目标目录存在\n",
    "if not os.path.exists(dest_directory):\n",
    "    os.makedirs(dest_directory)\n",
    "\n",
    "# 使用os.walk遍历源目录\n",
    "for root, dirs, files in tqdm(os.walk(src_directory)):\n",
    "    for file in files:\n",
    "        if is_excel_file(file):\n",
    "            try:shutil.copy(os.path.join(root, file), dest_directory)\n",
    "            except:print(file)\n",
    "print(\"所有匹配的Excel文件已被复制到目标目录。\")\n",
    "\n"
   ]
  },
  {
   "cell_type": "code",
   "execution_count": 6,
   "metadata": {},
   "outputs": [
    {
     "name": "stderr",
     "output_type": "stream",
     "text": [
      "100%|██████████| 989/989 [00:00<00:00, 8604.94it/s]"
     ]
    },
    {
     "name": "stdout",
     "output_type": "stream",
     "text": [
      "文件移动过程完成。\n"
     ]
    },
    {
     "name": "stderr",
     "output_type": "stream",
     "text": [
      "\n"
     ]
    }
   ],
   "source": [
    "import os\n",
    "import shutil\n",
    "\n",
    "def move_files(src, dest, keywords):\n",
    "    for filename in os.listdir(src):\n",
    "        if any(keyword.lower() in filename.lower() for keyword in keywords):\n",
    "            shutil.move(os.path.join(src, filename), dest)\n",
    "\n",
    "src_directory = r\"D:\\SYZ_folder\\活动\\学工\\23秋\\A挑战杯-自动化\\second_shot_0225-01-52\\backend\\rules\\xlsx_files\"\n",
    "dest_myfile = r\"D:\\SYZ_folder\\活动\\学工\\23秋\\A挑战杯-自动化\\second_shot_0225-01-52\\backend\\myfile\"\n",
    "dest_else = r\"D:\\SYZ_folder\\活动\\学工\\23秋\\A挑战杯-自动化\\second_shot_0225-01-52\\backend\\rules\\else\"\n",
    "\n",
    "# 确保目标目录存在\n",
    "os.makedirs(dest_myfile, exist_ok=True)\n",
    "os.makedirs(dest_else, exist_ok=True)\n",
    "\n",
    "# 移动包含“税远志”或“syz”的文件\n",
    "move_files(src_directory, dest_myfile, ['税远志', 'syz'])\n",
    "\n",
    "# 移动符合其他条件的文件\n",
    "keywords_else = [\n",
    "    '喻倩倩', '秦皇岛', '西藏', '税家村', '信架构', '校友', '巴东', '知网', 'yqq'\n",
    "]\n",
    "for filename in tqdm(os.listdir(src_directory)):\n",
    "    lower_filename = filename.lower()\n",
    "    if (('管理办' in lower_filename and '值班表' in lower_filename) or\n",
    "        ('管理办' in lower_filename and '额外' in lower_filename) or\n",
    "        any(keyword.lower() in lower_filename for keyword in keywords_else)):\n",
    "        try:shutil.move(os.path.join(src_directory, filename), dest_else)\n",
    "        except:print(filename)\n",
    "print(\"文件移动过程完成。\")\n"
   ]
  },
  {
   "cell_type": "code",
   "execution_count": 4,
   "metadata": {},
   "outputs": [
    {
     "name": "stdout",
     "output_type": "stream",
     "text": [
      "1 2\n"
     ]
    }
   ],
   "source": [
    "for (key,value) in {1:2}.items():print(key,value)"
   ]
  },
  {
   "cell_type": "code",
   "execution_count": null,
   "metadata": {},
   "outputs": [],
   "source": [
    "for filename in tqdm(os.listdir(src_directory)):\n",
    "    lower_filename = filename.lower()\n",
    "    if \"税远志\" in filename or \"syz\" in lower_filename:\n",
    "        try:shutil.move(os.path.join(src_directory, filename), dest_else)\n",
    "        except:print(filename)"
   ]
  },
  {
   "cell_type": "markdown",
   "metadata": {},
   "source": [
    "# 尝试IO、attribute代码"
   ]
  },
  {
   "cell_type": "code",
   "execution_count": 11,
   "metadata": {},
   "outputs": [],
   "source": [
    "import os,sys\n",
    "sys.path.append(\"../\")\n",
    "import utils.excel_processor as XPRO\n",
    "import openpyxl as px\n",
    "\n",
    "#???问张天行\n"
   ]
  },
  {
   "cell_type": "code",
   "execution_count": 35,
   "metadata": {},
   "outputs": [],
   "source": [
    "import openpyxl as px\n",
    "from openpyxl.utils import get_column_letter\n",
    "from openpyxl.worksheet.datavalidation import DataValidation\n",
    "# 获取下拉框中的所有选择值\n",
    "drop_row=dict()\n",
    "def read_with_dropdown(ws,index):\n",
    "    validations = ws.data_validations.dataValidation\n",
    "    for validation in validations:\n",
    "        #print(validation,validation.sqref)#\n",
    "        cell=str(validation.sqref)\n",
    "        result=validation.formula1\n",
    "        row=str(cell)[0]\n",
    "        #存在一列中部分数据有下拉列表的情况，如果是index到中间某一行有之，则此列视为全有；\n",
    "        #如果是中间某一行开始有之，则视为原数据的错误，不予理会\n",
    "        \n",
    "        if \" \" in cell:#如果是多列下拉列表相同，分别进行检验\n",
    "            cells=cell.split(\" \")\n",
    "            \n",
    "            for i in cells:\n",
    "                #取消此设定：数据中一些列存在部分数据有下拉表格，不予理会。下拉列表必须是从第一行或者第二行开始有，行数大于1的。\n",
    "                #if  i[1:3] not in [f\"{index}:\",\"1:\"]: continue\n",
    "                #elif i[0] in drop_row:continue\n",
    "                #\n",
    "                #else:\n",
    "                drop_row[i[0]]=result\n",
    "        else:\n",
    "            #if cell[1:3] not in [f\"{index}:\",\"1:\"]:continue\n",
    "            #elif row in drop_row:continue\n",
    "            #else:\n",
    "            drop_row[row]=result\n",
    "\n",
    "# 同步下拉框项中的选择值             \n",
    "def set_drop_down(ws,index,total):\n",
    "    for row in list(drop_row.items()):\n",
    "        formula1=row[1]\n",
    "        dv=DataValidation(type=\"list\", formula1=f'{formula1}', allow_blank=True)\n",
    "        ws.add_data_validation(dv)\n",
    "        last_row=total#ws.max_row有毛病，等于1。故设为5000\n",
    "        row_c=f\"{row[0]}{index}:{row[0]}{last_row}\"\n",
    "        dv.add(row_c)\n",
    "        "
   ]
  },
  {
   "cell_type": "code",
   "execution_count": 36,
   "metadata": {},
   "outputs": [],
   "source": [
    "\n",
    "excel_got=r\"../tests/for_fuker.extract/test2_dropdown.xlsx\"\n",
    "Xio=XPRO.Excel_IO()\n",
    "ws=Xio.read_excel_file(excel_got)[1]\n"
   ]
  },
  {
   "cell_type": "code",
   "execution_count": 37,
   "metadata": {},
   "outputs": [
    {
     "data": {
      "text/plain": [
       "(9,\n",
       " {'H': '\"是,否\"',\n",
       "  'D': '\"A.理工农医类,B.社会调查报告和人文社科类,C.发明创造科技制作类\"',\n",
       "  'J': 'Sheet3!$G$1:$G$35',\n",
       "  'E': 'Sheet2!$B$1:$N$1',\n",
       "  'F': 'Sheet2!$A$2:$A$112',\n",
       "  'I': '\"男,女\"',\n",
       "  'R': '\"男,女\"',\n",
       "  'L': 'Sheet3!$A$1:$A$73',\n",
       "  'S': 'Sheet3!$A$1:$A$73'})"
      ]
     },
     "execution_count": 37,
     "metadata": {},
     "output_type": "execute_result"
    }
   ],
   "source": [
    "for index in \"abcdefghijklmnopqrstuv\":\n",
    "    read_with_dropdown(ws,index)\n",
    "(len(drop_row),drop_row)"
   ]
  },
  {
   "cell_type": "code",
   "execution_count": 58,
   "metadata": {},
   "outputs": [
    {
     "name": "stdout",
     "output_type": "stream",
     "text": [
      "'a' matches the pattern.\n",
      "'!a' matches the pattern.\n",
      "'abc!' does not match the pattern.\n",
      "'!!!b' matches the pattern.\n",
      "'cdefgh!z' matches the pattern.\n",
      "('Sheet2!', '$A$2:$A$112')\n"
     ]
    }
   ],
   "source": [
    "import re\n",
    "\n",
    "# 正则表达式模式\n",
    "# ^ 表示匹配字符串的开头\n",
    "# (?:...) 是非捕获组，用来应用或者操作，但不捕获匹配的文本\n",
    "# [a-zA-Z] 匹配任何单个字母\n",
    "# . 表示匹配任意单个字符\n",
    "# * 表示匹配0次或多次前面的字符\n",
    "# ! 匹配字符 \"!\"\n",
    "# [a-zA-Z]$ 表示匹配以字母结尾的字符串\n",
    "pattern = r\"^(?:.*!)?[a-zA-Z]$\"\n",
    "\n",
    "# 测试字符串\n",
    "test_strings = ['a', '!a', 'abc!', '!!!b', 'cdefgh!z']\n",
    "\n",
    "# 检查每个字符串是否匹配\n",
    "for string in test_strings:\n",
    "    if re.match(pattern, string):\n",
    "        print(f\"'{string}' matches the pattern.\")\n",
    "    else:\n",
    "        print(f\"'{string}' does not match the pattern.\")\n",
    "pattern = r\"^(.*!)?(\\$?[A-Za-z]\\$?\\d+:\\$?[A-Za-z]\\$?\\d+)$\"\n",
    "xxx=re.search(pattern, \"Sheet2!$A$2:$A$112\")\n",
    "if (xxx):\n",
    "    print(xxx.groups())"
   ]
  },
  {
   "cell_type": "code",
   "execution_count": 60,
   "metadata": {},
   "outputs": [
    {
     "name": "stdout",
     "output_type": "stream",
     "text": [
      "['序号', '作品题目', '参赛类别', '作品学科分类', '学科门类', '一级学科', '作者', '是否为团队负责人', '性别', '生源地', '学号', '所在院系', '年级（如2020级本科生/硕士生/博士生）', '手机', '微信号', '邮箱', '指导教师姓名', '指导教师性别', '指导教师所在院系', '指导教师职称/职务', '指导教师电话', '指导教师电子邮箱']\n"
     ]
    }
   ],
   "source": [
    "print(\"序号\t作品题目\t参赛类别\t作品学科分类\t学科门类\t一级学科\t作者\t是否为团队负责人\t性别\t生源地\t学号\t所在院系\t年级（如2020级本科生/硕士生/博士生）\t手机\t微信号\t邮箱\t指导教师姓名\t指导教师性别\t指导教师所在院系\t指导教师职称/职务\t指导教师电话\t指导教师电子邮箱\".split())"
   ]
  },
  {
   "cell_type": "code",
   "execution_count": 29,
   "metadata": {},
   "outputs": [
    {
     "data": {
      "text/plain": [
       "22"
      ]
     },
     "execution_count": 29,
     "metadata": {},
     "output_type": "execute_result"
    }
   ],
   "source": [
    "with open(\"./SHOTSHOTSHOT.txt\",\"r\",encoding=\"utf-8\") as text_:\n",
    "    text_=text_.read()\n",
    "    string_=\"\"\"[<openpyxl.worksheet.datavalidation.DataValidation object>\n",
    "Parameters:\n",
    "sqref=<MultiCellRange [H6:H13]>, showDropDown=False, showInputMessage=True, showErrorMessage=True, allowBlank=False, errorTitle=None, error=None, promptTitle=None, prompt=None, type='list', errorStyle=None, imeMode=None, operator=None, formula1='\"是,否\"', formula2=None, <openpyxl.worksheet.datavalidation.DataValidation object>\n",
    "Parameters:\n",
    "sqref=<MultiCellRange [D10]>, showDropDown=False, showInputMessage=True, showErrorMessage=True, allowBlank=False, errorTitle=None, error=None, promptTitle=None, prompt=None, type='list', errorStyle=None, imeMode=None, operator=None, formula1='\"理工农医类,社会调查报告和人文社科类,发明创造科技制作类\"', formula2=None, <openpyxl.worksheet.datavalidation.DataValidation object>\n",
    "Parameters:\n",
    "sqref=<MultiCellRange [J6:J13]>, showDropDown=False, showInputMessage=True, showErrorMessage=True, allowBlank=False, errorTitle=None, error=None, promptTitle=None, prompt=None, type='list', errorStyle=None, imeMode=None, operator=None, formula1='Sheet3!$G$1:$G$35', formula2=None, <openpyxl.worksheet.datavalidation.DataValidation object>\n",
    "Parameters:\n",
    "sqref=<MultiCellRange [D6:D9]>, showDropDown=False, showInputMessage=True, showErrorMessage=True, allowBlank=False, errorTitle=None, error=None, promptTitle=None, prompt=None, type='list', errorStyle=None, imeMode=None, operator=None, formula1='\"A.理工农医类,B.社会调查报告和人文社科类,C.发明创造科技制作类\"', formula2=None, <openpyxl.worksheet.datavalidation.DataValidation object>\n",
    "Parameters:\n",
    "sqref=<MultiCellRange [E6:E13]>, showDropDown=False, showInputMessage=True, showErrorMessage=True, allowBlank=False, errorTitle=None, error=None, promptTitle=None, prompt=None, type='list', errorStyle=None, imeMode=None, operator=None, formula1='Sheet2!$B$1:$N$1', formula2=None, <openpyxl.worksheet.datavalidation.DataValidation object>\n",
    "Parameters:\n",
    "sqref=<MultiCellRange [F6:F14]>, showDropDown=False, showInputMessage=True, showErrorMessage=True, allowBlank=False, errorTitle=None, error=None, promptTitle=None, prompt=None, type='list', errorStyle=None, imeMode=None, operator=None, formula1='Sheet2!$A$2:$A$112', formula2=None, <openpyxl.worksheet.datavalidation.DataValidation object>\n",
    "Parameters:\n",
    "sqref=<MultiCellRange [I6:I13 R6:R13]>, showDropDown=False, showInputMessage=True, showErrorMessage=True, allowBlank=False, errorTitle=None, error=None, promptTitle=None, prompt=None, type='list', errorStyle=None, imeMode=None, operator=None, formula1='\"男,女\"', formula2=None, <openpyxl.worksheet.datavalidation.DataValidation object>\n",
    "Parameters:\n",
    "sqref=<MultiCellRange [L6:L13 S6:S13]>, showDropDown=False, showInputMessage=True, showErrorMessage=True, allowBlank=False, errorTitle=None, error=None, promptTitle=None, prompt=None, type='list', errorStyle=None, imeMode=None, operator=None, formula1='Sheet3!$A$1:$A$73', formula2=None]\"\"\"\n",
    "text_.count(string_)"
   ]
  },
  {
   "cell_type": "markdown",
   "metadata": {},
   "source": [
    "是的，如果您正在使用conda环境，您可以将自己的包安装到该环境中，从而避免修改`sys.path`。将自己的包注册到Python环境中，可以通过以下几个步骤：\n",
    "\n",
    "1. **创建一个`setup.py`文件**：首先确保您的包具有一个`setup.py`文件，这是一个包的安装脚本，它告诉Python如何安装您的模块。一个基本的`setup.py`通常看起来像这样：\n",
    "\n",
    "```python\n",
    "from setuptools import setup, find_packages\n",
    "\n",
    "setup(\n",
    "    name='your_package_name',\n",
    "    version='0.1',\n",
    "    packages=find_packages(),\n",
    "    install_requires=[\n",
    "        # 任何依赖项，例如 'numpy >= 1.13.3'\n",
    "    ],\n",
    "    # 其他元数据...\n",
    ")\n",
    "```\n",
    "\n",
    "2. **激活conda环境**：激活您想要安装包的conda环境。\n",
    "\n",
    "```bash\n",
    "conda activate your_environment_name\n",
    "```\n",
    "\n",
    "3. **安装您的包**：使用`pip`进行安装。虽然conda也可以用来安装包，但是它主要用于安装已经存在于conda仓库中的包。对于自己开发的包，使用`pip`是更标准的方法。\n",
    "\n",
    "```bash\n",
    "pip install /path/to/your/package\n",
    "```\n",
    "\n",
    "如果您在包的根目录中，也可以使用点符号(`.`)来代替路径：\n",
    "\n",
    "```bash\n",
    "pip install .\n",
    "```\n",
    "\n",
    "这将安装您的包及其所有依赖项到当前激活的conda环境中。\n",
    "\n",
    "4. **导入您的包**：在Jupyter Notebook中，您现在可以直接导入您的包，就像其他任何已安装的库一样。\n",
    "\n",
    "```python\n",
    "import your_package_name\n",
    "```\n",
    "\n",
    "使用这种方法，您不需要担心包的路径问题，也不需要在每次启动Jupyter Notebook时都进行环境配置。您的包会作为环境的一部分被安装，无论您的Notebook位于何处，都可以直接导入和使用。当您更新包的代码时，只需要重新运行`pip install`命令来更新环境中的包。如果您的包正在进行频繁的更改，您可以添加`-e`标志来以“可编辑”模式安装包，这样代码的更改会立即反映，无需重新安装：\n",
    "\n",
    "```bash\n",
    "pip install -e /path/to/your/package\n",
    "```\n",
    "\n",
    "记住，您应该总是在conda环境中使用`pip`安装包，以避免污染全局Python环境。"
   ]
  },
  {
   "cell_type": "code",
   "execution_count": 7,
   "metadata": {},
   "outputs": [
    {
     "data": {
      "text/plain": [
       "<_io.BytesIO at 0x2b48ba15b30>"
      ]
     },
     "execution_count": 7,
     "metadata": {},
     "output_type": "execute_result"
    }
   ],
   "source": [
    "excel_file=\"./tests/test1.xlsx\"\n",
    "excel_io=Excel_IO()\n",
    "excel_wb,excel_ws=excel_io.read_excel_file(excel_file)\n",
    "excel_io.stream_excel_to_frontend(excel_wb)"
   ]
  },
  {
   "cell_type": "code",
   "execution_count": 8,
   "metadata": {},
   "outputs": [
    {
     "data": {
      "text/plain": [
       "((<Cell 'Sheet1'.A1>, <Cell 'Sheet1'.B1>),\n",
       " (<Cell 'Sheet1'.A2>, <Cell 'Sheet1'.B2>))"
      ]
     },
     "execution_count": 8,
     "metadata": {},
     "output_type": "execute_result"
    }
   ],
   "source": [
    "excel_ws[\"A1:B2\"]"
   ]
  },
  {
   "cell_type": "code",
   "execution_count": 8,
   "metadata": {},
   "outputs": [
    {
     "data": {
      "text/plain": [
       "{'max_row': {2, 3}, 'max_col': {7}}"
      ]
     },
     "execution_count": 8,
     "metadata": {},
     "output_type": "execute_result"
    }
   ],
   "source": [
    "excel_attribute=Excel_attribute()\n",
    "excel_attribute.get_max_row_col(excel_ws)"
   ]
  },
  {
   "cell_type": "code",
   "execution_count": 3,
   "metadata": {},
   "outputs": [],
   "source": [
    "from openpyxl import Workbook\n",
    "from openpyxl.styles import Font, Border, Side, PatternFill, Alignment, Protection\n",
    "from openpyxl.utils import range_boundaries\n",
    "\n",
    "class ExcelAttribute:\n",
    "    def __init__(self, excel_file):\n",
    "        self.excel_wb = Workbook() if excel_file is None else excel_file\n",
    "        self.excel_ws = self.excel_wb.active\n",
    "\n",
    "    def modify_cell_style(self, cell, font=None, border=None, fill=None, \n",
    "                          number_format=None, protection=None, hyperlink=None, alignment=None):\n",
    "        # Check if cell is a string reference or a Cell object\n",
    "        if isinstance(cell, str):\n",
    "            cell = self.excel_ws[cell]\n",
    "\n",
    "        # Apply styles as provided\n",
    "        if font is not None:\n",
    "            cell.font = font\n",
    "        if border is not None:\n",
    "            cell.border = border\n",
    "        if fill is not None:\n",
    "            cell.fill = fill\n",
    "        if number_format is not None:\n",
    "            cell.number_format = number_format\n",
    "        if protection is not None:\n",
    "            cell.protection = protection\n",
    "        if hyperlink is not None:\n",
    "            cell.hyperlink = hyperlink\n",
    "        if alignment is not None:\n",
    "            cell.alignment = alignment\n",
    "\n",
    "    def modify_range_style(self, cell_range, **style_kwargs):\n",
    "        # Convert cell range to actual range\n",
    "        min_col, min_row, max_col, max_row = range_boundaries(cell_range)\n",
    "        \n",
    "        # Iterate over all cells in the range\n",
    "        for row in range(min_row, max_row + 1):\n",
    "            for col in range(min_col, max_col + 1):\n",
    "                cell = self.excel_ws.cell(row=row, column=col)\n",
    "                self.modify_cell_style(cell, **style_kwargs)\n",
    "\n",
    "# 示例用法\n",
    "excel_attr = Excel_attribute(None)  # 创建一个新的Excel工作簿\n",
    "#excel_attr=ExcelAttribute(None)\n",
    "# 设置一个单元格的样式\n",
    "excel_attr.modify_cell_style(\n",
    "    'A1',\n",
    "    font=Font(name='Calibri', size=12, bold=True),\n",
    "    fill=PatternFill(fill_type='solid', start_color='FFFF00'),\n",
    "    alignment=Alignment(horizontal='center', vertical='center')\n",
    ")\n",
    "\n",
    "\"\"\"# 批量设置一个范围内单元格的样式\n",
    "excel_attr.modify_range_style(\n",
    "    'B2:D4',\n",
    "    font=Font(name='Arial', size=10, italic=True),\n",
    "    border=Border(left=Side(style='thin'), right=Side(style='thin'),\n",
    "                  top=Side(style='thin'), bottom=Side(style='thin')),\n",
    "    fill=PatternFill(fill_type='solid', start_color='FF0000'),\n",
    "    alignment=Alignment(horizontal='left', vertical='top')\n",
    ")\"\"\"\n",
    "\n",
    "# 保存工作簿\n",
    "excel_attr.excel_wb.save('example.xlsx')\n",
    "\n"
   ]
  },
  {
   "cell_type": "code",
   "execution_count": 4,
   "metadata": {},
   "outputs": [
    {
     "ename": "NameError",
     "evalue": "name 'excel_ws' is not defined",
     "output_type": "error",
     "traceback": [
      "\u001b[1;31m---------------------------------------------------------------------------\u001b[0m",
      "\u001b[1;31mNameError\u001b[0m                                 Traceback (most recent call last)",
      "\u001b[1;32m~\\AppData\\Local\\Temp/ipykernel_3792/1279634481.py\u001b[0m in \u001b[0;36m<module>\u001b[1;34m\u001b[0m\n\u001b[1;32m----> 1\u001b[1;33m \u001b[0mexcel_ws\u001b[0m\u001b[1;33m\u001b[0m\u001b[1;33m\u001b[0m\u001b[0m\n\u001b[0m",
      "\u001b[1;31mNameError\u001b[0m: name 'excel_ws' is not defined"
     ]
    }
   ],
   "source": [
    "excel_ws"
   ]
  },
  {
   "cell_type": "code",
   "execution_count": null,
   "metadata": {},
   "outputs": [
    {
     "data": {
      "text/plain": [
       "<openpyxl.styles.borders.Border object>\n",
       "Parameters:\n",
       "outline=True, diagonalUp=False, diagonalDown=False, start=None, end=None, left=None, right=None, top=None, bottom=None, diagonal=None, vertical=None, horizontal=None"
      ]
     },
     "execution_count": 2,
     "metadata": {},
     "output_type": "execute_result"
    }
   ],
   "source": [
    "from openpyxl import Workbook\n",
    "from openpyxl.styles import NamedStyle\n",
    "from openpyxl import Workbook\n",
    "from openpyxl.styles import Font, Border, Side, PatternFill, Alignment, Protection\n",
    "from openpyxl.utils import range_boundaries\n",
    "# 创建工作簿和工作表\n",
    "wb = Workbook()\n",
    "ws = wb.active\n",
    "\n",
    "# 创建一个命名样式\n",
    "highlight = NamedStyle(name=\"highlight\", fill=PatternFill(\"solid\", fgColor=\"FFFF00\"))\n",
    "\n",
    "# 将样式添加到工作簿的样式列表中\n",
    "wb.add_named_style(highlight)\n",
    "\n",
    "# 应用样式到单元格\n",
    "cell = ws['A1']\n",
    "cell.style = highlight\n",
    "cell.border\n"
   ]
  },
  {
   "cell_type": "code",
   "execution_count": null,
   "metadata": {},
   "outputs": [
    {
     "data": {
      "text/plain": [
       "'cell.font , cell.border , cell.fill , cell.number_format , cell.protection , cell.hyperlink , cell.alignment'"
      ]
     },
     "execution_count": 9,
     "metadata": {},
     "output_type": "execute_result"
    }
   ],
   "source": [
    "import re\n",
    "x1=re.findall (\"(\\w+)=None\",\"\"\"font=None, border=None, fill=None, \n",
    "                          number_format=None, protection=None, \n",
    "                          hyperlink=None, alignment=None\"\"\")\n",
    "print(\" , \".join([\"cell.\"+i for i in x1]))"
   ]
  },
  {
   "cell_type": "code",
   "execution_count": null,
   "metadata": {},
   "outputs": [
    {
     "data": {
      "text/plain": [
       "['BREAK_COLUMN',\n",
       " 'BREAK_NONE',\n",
       " 'BREAK_ROW',\n",
       " 'HeaderFooter',\n",
       " 'ORIENTATION_LANDSCAPE',\n",
       " 'ORIENTATION_PORTRAIT',\n",
       " 'PAPERSIZE_A3',\n",
       " 'PAPERSIZE_A4',\n",
       " 'PAPERSIZE_A4_SMALL',\n",
       " 'PAPERSIZE_A5',\n",
       " 'PAPERSIZE_EXECUTIVE',\n",
       " 'PAPERSIZE_LEDGER',\n",
       " 'PAPERSIZE_LEGAL',\n",
       " 'PAPERSIZE_LETTER',\n",
       " 'PAPERSIZE_LETTER_SMALL',\n",
       " 'PAPERSIZE_STATEMENT',\n",
       " 'PAPERSIZE_TABLOID',\n",
       " 'SHEETSTATE_HIDDEN',\n",
       " 'SHEETSTATE_VERYHIDDEN',\n",
       " 'SHEETSTATE_VISIBLE',\n",
       " '_WorkbookChild__title',\n",
       " '__class__',\n",
       " '__delattr__',\n",
       " '__delitem__',\n",
       " '__dict__',\n",
       " '__dir__',\n",
       " '__doc__',\n",
       " '__eq__',\n",
       " '__format__',\n",
       " '__ge__',\n",
       " '__getattribute__',\n",
       " '__getitem__',\n",
       " '__getstate__',\n",
       " '__gt__',\n",
       " '__hash__',\n",
       " '__init__',\n",
       " '__init_subclass__',\n",
       " '__iter__',\n",
       " '__le__',\n",
       " '__lt__',\n",
       " '__module__',\n",
       " '__ne__',\n",
       " '__new__',\n",
       " '__reduce__',\n",
       " '__reduce_ex__',\n",
       " '__repr__',\n",
       " '__setattr__',\n",
       " '__setitem__',\n",
       " '__sizeof__',\n",
       " '__str__',\n",
       " '__subclasshook__',\n",
       " '__weakref__',\n",
       " '_add_cell',\n",
       " '_add_column',\n",
       " '_add_row',\n",
       " '_cells',\n",
       " '_cells_by_col',\n",
       " '_cells_by_row',\n",
       " '_charts',\n",
       " '_clean_merge_range',\n",
       " '_comments',\n",
       " '_current_row',\n",
       " '_default_title',\n",
       " '_drawing',\n",
       " '_get_cell',\n",
       " '_hyperlinks',\n",
       " '_id',\n",
       " '_images',\n",
       " '_invalid_row',\n",
       " '_move_cell',\n",
       " '_move_cells',\n",
       " '_parent',\n",
       " '_path',\n",
       " '_pivots',\n",
       " '_print_area',\n",
       " '_print_cols',\n",
       " '_print_rows',\n",
       " '_rel_type',\n",
       " '_rels',\n",
       " '_setup',\n",
       " '_tables',\n",
       " 'active_cell',\n",
       " 'add_chart',\n",
       " 'add_data_validation',\n",
       " 'add_image',\n",
       " 'add_pivot',\n",
       " 'add_table',\n",
       " 'append',\n",
       " 'array_formulae',\n",
       " 'auto_filter',\n",
       " 'calculate_dimension',\n",
       " 'cell',\n",
       " 'col_breaks',\n",
       " 'column_dimensions',\n",
       " 'columns',\n",
       " 'conditional_formatting',\n",
       " 'data_validations',\n",
       " 'defined_names',\n",
       " 'delete_cols',\n",
       " 'delete_rows',\n",
       " 'dimensions',\n",
       " 'encoding',\n",
       " 'evenFooter',\n",
       " 'evenHeader',\n",
       " 'firstFooter',\n",
       " 'firstHeader',\n",
       " 'freeze_panes',\n",
       " 'insert_cols',\n",
       " 'insert_rows',\n",
       " 'iter_cols',\n",
       " 'iter_rows',\n",
       " 'legacy_drawing',\n",
       " 'max_column',\n",
       " 'max_row',\n",
       " 'merge_cells',\n",
       " 'merged_cell_ranges',\n",
       " 'merged_cells',\n",
       " 'mime_type',\n",
       " 'min_column',\n",
       " 'min_row',\n",
       " 'move_range',\n",
       " 'oddFooter',\n",
       " 'oddHeader',\n",
       " 'page_margins',\n",
       " 'page_setup',\n",
       " 'parent',\n",
       " 'path',\n",
       " 'print_area',\n",
       " 'print_options',\n",
       " 'print_title_cols',\n",
       " 'print_title_rows',\n",
       " 'print_titles',\n",
       " 'protection',\n",
       " 'row_breaks',\n",
       " 'row_dimensions',\n",
       " 'rows',\n",
       " 'scenarios',\n",
       " 'selected_cell',\n",
       " 'set_printer_settings',\n",
       " 'sheet_format',\n",
       " 'sheet_properties',\n",
       " 'sheet_state',\n",
       " 'sheet_view',\n",
       " 'show_gridlines',\n",
       " 'tables',\n",
       " 'title',\n",
       " 'unmerge_cells',\n",
       " 'values',\n",
       " 'views']"
      ]
     },
     "execution_count": 15,
     "metadata": {},
     "output_type": "execute_result"
    }
   ],
   "source": [
    "worksheet_attributes = dir(excel_attr.excel_ws)\n",
    "(worksheet_attributes)"
   ]
  },
  {
   "cell_type": "code",
   "execution_count": null,
   "metadata": {},
   "outputs": [
    {
     "name": "stdout",
     "output_type": "stream",
     "text": [
      "Classes in  module:\n",
      "Workbook\n",
      "\n",
      "Functions in  module:\n",
      "load_workbook\n",
      "open\n",
      "\n"
     ]
    },
    {
     "ename": "TypeError",
     "evalue": "<property object at 0x00000276AAF491D0> is not a callable object",
     "output_type": "error",
     "traceback": [
      "\u001b[1;31m---------------------------------------------------------------------------\u001b[0m",
      "\u001b[1;31mTypeError\u001b[0m                                 Traceback (most recent call last)",
      "\u001b[1;32m~\\AppData\\Local\\Temp/ipykernel_31832/300602010.py\u001b[0m in \u001b[0;36m<module>\u001b[1;34m\u001b[0m\n\u001b[0;32m     31\u001b[0m \u001b[0mget_attrcs\u001b[0m\u001b[1;33m(\u001b[0m\u001b[0mpx\u001b[0m\u001b[1;33m)\u001b[0m\u001b[1;33m\u001b[0m\u001b[1;33m\u001b[0m\u001b[0m\n\u001b[0;32m     32\u001b[0m \u001b[0mprint\u001b[0m\u001b[1;33m(\u001b[0m\u001b[1;33m)\u001b[0m\u001b[1;33m\u001b[0m\u001b[1;33m\u001b[0m\u001b[0m\n\u001b[1;32m---> 33\u001b[1;33m \u001b[0mget_function_para\u001b[0m\u001b[1;33m(\u001b[0m\u001b[0mpx\u001b[0m\u001b[1;33m.\u001b[0m\u001b[0mWorkbook\u001b[0m\u001b[1;33m.\u001b[0m\u001b[0mworksheets\u001b[0m\u001b[1;33m)\u001b[0m\u001b[1;33m\u001b[0m\u001b[1;33m\u001b[0m\u001b[0m\n\u001b[0m",
      "\u001b[1;32m~\\AppData\\Local\\Temp/ipykernel_31832/300602010.py\u001b[0m in \u001b[0;36mget_function_para\u001b[1;34m(sample_function)\u001b[0m\n\u001b[0;32m     18\u001b[0m \u001b[1;33m\u001b[0m\u001b[0m\n\u001b[0;32m     19\u001b[0m     \u001b[1;31m# 获取函数的签名对象\u001b[0m\u001b[1;33m\u001b[0m\u001b[1;33m\u001b[0m\u001b[0m\n\u001b[1;32m---> 20\u001b[1;33m     \u001b[0msignature\u001b[0m \u001b[1;33m=\u001b[0m \u001b[0minspect\u001b[0m\u001b[1;33m.\u001b[0m\u001b[0msignature\u001b[0m\u001b[1;33m(\u001b[0m\u001b[0msample_function\u001b[0m\u001b[1;33m)\u001b[0m\u001b[1;33m\u001b[0m\u001b[1;33m\u001b[0m\u001b[0m\n\u001b[0m\u001b[0;32m     21\u001b[0m \u001b[1;33m\u001b[0m\u001b[0m\n\u001b[0;32m     22\u001b[0m     \u001b[1;31m# 从签名对象中提取参数\u001b[0m\u001b[1;33m\u001b[0m\u001b[1;33m\u001b[0m\u001b[0m\n",
      "\u001b[1;32mc:\\Users\\26352\\anaconda3\\lib\\inspect.py\u001b[0m in \u001b[0;36msignature\u001b[1;34m(obj, follow_wrapped)\u001b[0m\n\u001b[0;32m   3111\u001b[0m \u001b[1;32mdef\u001b[0m \u001b[0msignature\u001b[0m\u001b[1;33m(\u001b[0m\u001b[0mobj\u001b[0m\u001b[1;33m,\u001b[0m \u001b[1;33m*\u001b[0m\u001b[1;33m,\u001b[0m \u001b[0mfollow_wrapped\u001b[0m\u001b[1;33m=\u001b[0m\u001b[1;32mTrue\u001b[0m\u001b[1;33m)\u001b[0m\u001b[1;33m:\u001b[0m\u001b[1;33m\u001b[0m\u001b[1;33m\u001b[0m\u001b[0m\n\u001b[0;32m   3112\u001b[0m     \u001b[1;34m\"\"\"Get a signature object for the passed callable.\"\"\"\u001b[0m\u001b[1;33m\u001b[0m\u001b[1;33m\u001b[0m\u001b[0m\n\u001b[1;32m-> 3113\u001b[1;33m     \u001b[1;32mreturn\u001b[0m \u001b[0mSignature\u001b[0m\u001b[1;33m.\u001b[0m\u001b[0mfrom_callable\u001b[0m\u001b[1;33m(\u001b[0m\u001b[0mobj\u001b[0m\u001b[1;33m,\u001b[0m \u001b[0mfollow_wrapped\u001b[0m\u001b[1;33m=\u001b[0m\u001b[0mfollow_wrapped\u001b[0m\u001b[1;33m)\u001b[0m\u001b[1;33m\u001b[0m\u001b[1;33m\u001b[0m\u001b[0m\n\u001b[0m\u001b[0;32m   3114\u001b[0m \u001b[1;33m\u001b[0m\u001b[0m\n\u001b[0;32m   3115\u001b[0m \u001b[1;33m\u001b[0m\u001b[0m\n",
      "\u001b[1;32mc:\\Users\\26352\\anaconda3\\lib\\inspect.py\u001b[0m in \u001b[0;36mfrom_callable\u001b[1;34m(cls, obj, follow_wrapped)\u001b[0m\n\u001b[0;32m   2860\u001b[0m     \u001b[1;32mdef\u001b[0m \u001b[0mfrom_callable\u001b[0m\u001b[1;33m(\u001b[0m\u001b[0mcls\u001b[0m\u001b[1;33m,\u001b[0m \u001b[0mobj\u001b[0m\u001b[1;33m,\u001b[0m \u001b[1;33m*\u001b[0m\u001b[1;33m,\u001b[0m \u001b[0mfollow_wrapped\u001b[0m\u001b[1;33m=\u001b[0m\u001b[1;32mTrue\u001b[0m\u001b[1;33m)\u001b[0m\u001b[1;33m:\u001b[0m\u001b[1;33m\u001b[0m\u001b[1;33m\u001b[0m\u001b[0m\n\u001b[0;32m   2861\u001b[0m         \u001b[1;34m\"\"\"Constructs Signature for the given callable object.\"\"\"\u001b[0m\u001b[1;33m\u001b[0m\u001b[1;33m\u001b[0m\u001b[0m\n\u001b[1;32m-> 2862\u001b[1;33m         return _signature_from_callable(obj, sigcls=cls,\n\u001b[0m\u001b[0;32m   2863\u001b[0m                                         follow_wrapper_chains=follow_wrapped)\n\u001b[0;32m   2864\u001b[0m \u001b[1;33m\u001b[0m\u001b[0m\n",
      "\u001b[1;32mc:\\Users\\26352\\anaconda3\\lib\\inspect.py\u001b[0m in \u001b[0;36m_signature_from_callable\u001b[1;34m(obj, follow_wrapper_chains, skip_bound_arg, sigcls)\u001b[0m\n\u001b[0;32m   2259\u001b[0m \u001b[1;33m\u001b[0m\u001b[0m\n\u001b[0;32m   2260\u001b[0m     \u001b[1;32mif\u001b[0m \u001b[1;32mnot\u001b[0m \u001b[0mcallable\u001b[0m\u001b[1;33m(\u001b[0m\u001b[0mobj\u001b[0m\u001b[1;33m)\u001b[0m\u001b[1;33m:\u001b[0m\u001b[1;33m\u001b[0m\u001b[1;33m\u001b[0m\u001b[0m\n\u001b[1;32m-> 2261\u001b[1;33m         \u001b[1;32mraise\u001b[0m \u001b[0mTypeError\u001b[0m\u001b[1;33m(\u001b[0m\u001b[1;34m'{!r} is not a callable object'\u001b[0m\u001b[1;33m.\u001b[0m\u001b[0mformat\u001b[0m\u001b[1;33m(\u001b[0m\u001b[0mobj\u001b[0m\u001b[1;33m)\u001b[0m\u001b[1;33m)\u001b[0m\u001b[1;33m\u001b[0m\u001b[1;33m\u001b[0m\u001b[0m\n\u001b[0m\u001b[0;32m   2262\u001b[0m \u001b[1;33m\u001b[0m\u001b[0m\n\u001b[0;32m   2263\u001b[0m     \u001b[1;32mif\u001b[0m \u001b[0misinstance\u001b[0m\u001b[1;33m(\u001b[0m\u001b[0mobj\u001b[0m\u001b[1;33m,\u001b[0m \u001b[0mtypes\u001b[0m\u001b[1;33m.\u001b[0m\u001b[0mMethodType\u001b[0m\u001b[1;33m)\u001b[0m\u001b[1;33m:\u001b[0m\u001b[1;33m\u001b[0m\u001b[1;33m\u001b[0m\u001b[0m\n",
      "\u001b[1;31mTypeError\u001b[0m: <property object at 0x00000276AAF491D0> is not a callable object"
     ]
    }
   ],
   "source": [
    "def get_attrcs(module_):\n",
    "    import inspect\n",
    "    # 获取所有成员的详细列表\n",
    "    all_members = inspect.getmembers(module_)\n",
    "    classes = [member for member in all_members if inspect.isclass(member[1])]\n",
    "    functions = [member for member in all_members if inspect.isfunction(member[1])]\n",
    "\n",
    "    print(\"Classes in  module:\")\n",
    "    for cls in classes:\n",
    "        print(cls[0])\n",
    "\n",
    "    print(\"\\nFunctions in  module:\")\n",
    "    for func in functions:\n",
    "        print(func[0])\n",
    "\n",
    "def get_function_para(sample_function):\n",
    "    import inspect\n",
    "\n",
    "    # 获取函数的签名对象\n",
    "    signature = inspect.signature(sample_function)\n",
    "\n",
    "    # 从签名对象中提取参数\n",
    "    parameters = signature.parameters\n",
    "\n",
    "    # 打印函数的参数\n",
    "    for name, param in parameters.items():\n",
    "        print(f\"Name: {name}\")\n",
    "        print(f\"  Default: {param.default}\")\n",
    "        print(f\"  Kind: {param.kind}\")\n",
    "        print(f\"  Annotation: {param.annotation}\")\n",
    "get_attrcs(px)\n",
    "print()\n",
    "get_function_para(px.Workbook.worksheets)"
   ]
  },
  {
   "cell_type": "markdown",
   "metadata": {},
   "source": [
    "好的，我将根据您的项目需求，为您组织目录结构、README文档，并为服务类A和B的方法框架提供命名和参数返回值描述。\n",
    "\n",
    "### 项目目录结构\n",
    "\n",
    "```\n",
    "backend/\n",
    "├── __init__.py\n",
    "├── services/\n",
    "│   ├── __init__.py\n",
    "│   ├── file_rule_maker.py\n",
    "│   └── file_validator.py\n",
    "├── utils/\n",
    "│   ├── __init__.py\n",
    "│   ├── excel_reader.py\n",
    "│   └── excel_writer.py\n",
    "├── models/\n",
    "│   └── __init__.py\n",
    "├── rules/\n",
    "│   ├── __init__.py\n",
    "│   └── predefined_rules.json\n",
    "├── resources/\n",
    "│   └── validation_templates/\n",
    "│       └── sample_template.xlsx\n",
    "├── tests/\n",
    "│   └── __init__.py\n",
    "└── scripts/\n",
    "    └── __init__.py\n",
    "```\n",
    "\n",
    "### README.md\n",
    "\n",
    "```\n",
    "# Excel内容收集：规则化内容部署&填写\n",
    "\n",
    "该项目为Excel内容的规则化部署和填写提供后端支持。涉及的主要功能包括Excel文件读取、规则制定、内容验证等。\n",
    "\n",
    "## 目录说明\n",
    "\n",
    "- `services/`: 包含处理文件规则制定和验证的服务类。\n",
    "- `utils/`: 包含辅助函数，如文件读取和写入。\n",
    "- `models/`: 用于存放数据模型。\n",
    "- `rules/`: 存放预设的规则文件。\n",
    "- `resources/`: 包含非代码文件，如模板和配置文件。\n",
    "- `tests/`: 包含项目的测试代码。\n",
    "- `scripts/`: 包含项目启动和维护相关的脚本。\n",
    "\n",
    "## 服务类方法说明\n",
    "\n",
    "### `FileRuleMaker` (services/file_rule_maker.py)\n",
    "\n",
    "- `extract_fields_from_excel`: 从Excel中提取字段行，并高亮显示。\n",
    "- `generate_user_rule_dict`: 根据前端确认的字段和规则生成用户规则字典。\n",
    "- `create_final_rules_and_examples`: 根据用户定义的规则生成最终的规则和示例。\n",
    "- `save_final_rules`: 保存最终的规则和示例到JSON文件中。\n",
    "\n",
    "### `FileValidator` (services/file_validator.py)\n",
    "\n",
    "- `validate_filled_excel`: 验证已填写的Excel文件是否符合规则。\n",
    "- `save_validated_excel`: 保存验证后的Excel文件到指定目录。\n",
    "\n",
    "## 开发和部署\n",
    "\n",
    "...\n",
    "\n",
    "## 联系方式\n",
    "\n",
    "...\n",
    "\n",
    "```\n",
    "\n",
    "### 服务类框架\n",
    "\n",
    "#### services/file_rule_maker.py\n",
    "\n",
    "```python\n",
    "class FileRuleMaker:\n",
    "    def extract_fields_from_excel(self, excel_file):\n",
    "        \"\"\"\n",
    "        接收Excel文件，读取第一个worksheet，寻找字段所在行，并提取所有字段值到列表。\n",
    "        将字段行高亮，返回含字段名的列表和保存的Excel文件路径。\n",
    "\n",
    "        Parameters:\n",
    "        excel_file (file): 需要处理的Excel文件。\n",
    "\n",
    "        Returns:\n",
    "        tuple: (字段名的列表, 保存的Excel文件路径)\n",
    "        \"\"\"\n",
    "        pass  # TODO: 实现方法\n",
    "\n",
    "    def generate_user_rule_dict(self, excel_file, fields_list):\n",
    "        \"\"\"\n",
    "        接收确认了字段行的Excel和字段名列表，输出包含预定义规则和下拉列表的字典到JSON。\n",
    "\n",
    "        Parameters:\n",
    "        excel_file (file): 确认了字段行的Excel文件。\n",
    "        fields_list (list): 字段名列表。\n",
    "\n",
    "        Returns:\n",
    "        dict: 用户规则字典。\n",
    "        \"\"\"\n",
    "        pass  # TODO: 实现方法\n",
    "\n",
    "    def create_final_rules_and_examples(self, rules_json):\n",
    "        \"\"\"\n",
    "        接收前端传来的规则字典所在的JSON文件，生成最终规则和样例。\n",
    "\n",
    "        Parameters:\n",
    "        rules_json (json): 规则字典所在的JSON文件。\n",
    "\n",
    "        Returns:\n",
    "        dict: 包含规则和样例的JSON对象。\n",
    "        \"\"\"\n",
    "        pass  # TODO: 实现方法\n",
    "\n",
    "    def save_final_rules(self, rules_dict, additional_info):\n",
    "        \"\"\"\n",
    "        接收最终确认后的规则字典和其他提示信息，保存为JSON文件。\n",
    "\n",
    "        Parameters:\n",
    "        rules_dict (dict): 规则字典。\n",
    "        additional_info (str): 其他提示信息。\n",
    "\n",
    "        Returns:\n",
    "        str: 保存的JSON文件路径。\n",
    "        \"\"\"\n",
    "        pass  # TODO: 实现方法\n",
    "```\n",
    "\n",
    "#### services/file_validator.py\n",
    "\n",
    "```python\n",
    "class FileValidator:\n",
    "    def validate_filled_excel(self, filled_excel_file, rules_json):\n",
    "        \"\"\"\n",
    "        验证已填写的Excel文件是否符合规则，并标记不符合的单元格。\n",
    "\n",
    "        Parameters:\n",
    "        filled_excel_file (file): 已填写的Excel文件。\n",
    "        rules_json (json): 规则字典所在的JSON文件。\n",
    "\n",
    "        Returns:\n",
    "        tuple: (保存的Excel文件路径, 是否完全符合规则的标志)\n",
    "        \"\"\"\n",
    "        pass  # TODO: 实现方法\n",
    "\n",
    "    def save_validated_excel(self, validated_excel_file, save_directory):\n",
    "        \"\"\"\n",
    "        内容确认无误后，保存经过验证的Excel文件到本地目录。\n",
    "\n",
    "        Parameters:\n",
    "        validated_excel_file (file): 经过验证的Excel文件。\n",
    "        save_directory (str): 文件保存目录。\n",
    "\n",
    "        Returns:\n",
    "        str: 保存的文件路径。\n",
    "        \"\"\"\n",
    "        pass  # TODO: 实现方法\n",
    "```\n",
    "\n",
    "请注意，这里的类名、方法名、参数和返回值只是基于您的描述提供的一个样板，实际的实现可能需要根据项目的具体需求进行调整。此外，上面的代码段并未包括实际的逻辑实现，您需要在这些方法内部填充相应的代码。"
   ]
  },
  {
   "cell_type": "code",
   "execution_count": null,
   "metadata": {},
   "outputs": [
    {
     "name": "stdout",
     "output_type": "stream",
     "text": [
      "目录结构和文件已创建。\n"
     ]
    }
   ],
   "source": [
    "import os\n",
    "\n",
    "# 创建目录结构\n",
    "dirs = [\n",
    "    'backend/services',\n",
    "    'backend/utils',\n",
    "    'backend/models',\n",
    "    'backend/rules',\n",
    "    'backend/resources/validation_templates',\n",
    "    'backend/tests',\n",
    "    'backend/scripts'\n",
    "]\n",
    "\n",
    "for dir in dirs:\n",
    "    os.makedirs(dir, exist_ok=True)\n",
    "\n",
    "# 创建文件\n",
    "files = [\n",
    "    'backend/__init__.py',\n",
    "    'backend/services/__init__.py',\n",
    "    'backend/services/file_rule_maker.py',\n",
    "    'backend/services/file_validator.py',\n",
    "    'backend/utils/__init__.py',\n",
    "    'backend/utils/excel_reader.py',\n",
    "    'backend/utils/excel_writer.py',\n",
    "    'backend/models/__init__.py',\n",
    "    'backend/rules/__init__.py',\n",
    "    'backend/rules/predefined_rules.json',\n",
    "    'backend/tests/__init__.py',\n",
    "    'backend/scripts/__init__.py',\n",
    "    'backend/resources/validation_templates/sample_template.xlsx'\n",
    "]\n",
    "\n",
    "for file in files:\n",
    "    with open(file, 'w') as fp:\n",
    "        pass  # 只创建文件，不写入任何内容\n",
    "\n",
    "print(\"目录结构和文件已创建。\")\n"
   ]
  },
  {
   "cell_type": "code",
   "execution_count": null,
   "metadata": {},
   "outputs": [],
   "source": []
  }
 ],
 "metadata": {
  "kernelspec": {
   "display_name": "base",
   "language": "python",
   "name": "python3"
  },
  "language_info": {
   "codemirror_mode": {
    "name": "ipython",
    "version": 3
   },
   "file_extension": ".py",
   "mimetype": "text/x-python",
   "name": "python",
   "nbconvert_exporter": "python",
   "pygments_lexer": "ipython3",
   "version": "3.12.2"
  }
 },
 "nbformat": 4,
 "nbformat_minor": 2
}
