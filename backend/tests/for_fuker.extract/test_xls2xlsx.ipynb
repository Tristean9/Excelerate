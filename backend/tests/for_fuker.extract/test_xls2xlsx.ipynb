{
 "cells": [
  {
   "cell_type": "code",
   "execution_count": 2,
   "metadata": {},
   "outputs": [
    {
     "name": "stdout",
     "output_type": "stream",
     "text": [
      "A5 B5 C5 D5 E5 F5 G5 H5 I5 J5 K5 L5 M5 N5 O5 P5 Q5 R5 S5 T5 U5 V5 "
     ]
    }
   ],
   "source": [
    "for i in \"ABCDEFGHIJKLMNOPQRSTUV\":print(i+\"5\",end=\" \")"
   ]
  },
  {
   "cell_type": "code",
   "execution_count": null,
   "metadata": {},
   "outputs": [],
   "source": [
    "import os\n",
    "import win32com.client as win32\n",
    "\n",
    "def xls2xlsx(filename):\n",
    "    excel = win32.gencache.EnsureDispatch('Excel.Application')\n",
    "    wb = excel.Workbooks.Open(filename)\n",
    "\n",
    "    wb.SaveAs(filename + \"x\", FileFormat=51)  # FileFormat = 51 is for .xlsx extension\n",
    "    wb.Close()  # FileFormat = 56 is for .xls extension\n",
    "    excel.Application.Quit()\n",
    "    \n",
    "    \n",
    "def xlsx2xls(xlsx_path, xls_path):\n",
    "    # xlsx_path参数为待转换的xlsx文件所在文件夹\n",
    "    # xls_path参数为转换完成的xls文件保存文件夹\n",
    "    # 当xls保存文件夹存在同名原xlsx时，会弹窗提示是否替换，建议保存至空文件夹​\n",
    "\n",
    "    path_list = glob.glob(xlsx_path + '\\\\*.xlsx')  # 获取文件夹下所有xlsx\n",
    "    for file in path_list:\n",
    "        filename = os.path.basename(file).replace('.xlsx', '.xls')  # 获取文件名\n",
    "        wb = excel.Workbooks.Open(file)\n",
    "        wb.SaveAs(xls_path + '\\\\' + filename, FileFormat=56)  # xls为56\n",
    "        wb.Close()\n",
    "        time.sleep(0.1)\n",
    "    excel.Application.Quit()\n",
    "execute(filename)"
   ]
  },
  {
   "cell_type": "code",
   "execution_count": null,
   "metadata": {},
   "outputs": [],
   "source": []
  }
 ],
 "metadata": {
  "kernelspec": {
   "display_name": "Excelerate_backend",
   "language": "python",
   "name": "python3"
  },
  "language_info": {
   "codemirror_mode": {
    "name": "ipython",
    "version": 3
   },
   "file_extension": ".py",
   "mimetype": "text/x-python",
   "name": "python",
   "nbconvert_exporter": "python",
   "pygments_lexer": "ipython3",
   "version": "3.12.2"
  }
 },
 "nbformat": 4,
 "nbformat_minor": 2
}
